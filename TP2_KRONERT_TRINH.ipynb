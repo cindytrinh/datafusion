{
 "cells": [
  {
   "cell_type": "code",
   "execution_count": 2,
   "metadata": {},
   "outputs": [],
   "source": [
    "import numpy as np\n",
    "import matplotlib.pyplot as plt"
   ]
  },
  {
   "cell_type": "markdown",
   "metadata": {},
   "source": [
    "# Exercice 1"
   ]
  },
  {
   "cell_type": "markdown",
   "metadata": {},
   "source": [
    "## Question 1"
   ]
  },
  {
   "cell_type": "code",
   "execution_count": 3,
   "metadata": {},
   "outputs": [],
   "source": [
    "def generate(x = 0, sigma = 1, n = 10):\n",
    "    return np.random.normal(loc = x, scale = sigma, size = n)"
   ]
  },
  {
   "cell_type": "code",
   "execution_count": 4,
   "metadata": {},
   "outputs": [],
   "source": [
    "x1 = generate(sigma = 0.1, n = 4)\n",
    "x2 = generate(sigma = 0.2, n = 10)"
   ]
  },
  {
   "cell_type": "markdown",
   "metadata": {},
   "source": [
    "## Question 2"
   ]
  },
  {
   "cell_type": "code",
   "execution_count": 11,
   "metadata": {},
   "outputs": [],
   "source": [
    "def Moy_estim_x(x1, x2):\n",
    "    n1 = x1.shape[0]\n",
    "    n2 = x2.shape[0]\n",
    "    return ((x1.sum() +x2.sum()) /\n",
    "                  (n1 +n2))"
   ]
  },
  {
   "cell_type": "code",
   "execution_count": 12,
   "metadata": {},
   "outputs": [],
   "source": [
    "def MLE_estim_x(x1, x2, sigma1, sigma2):\n",
    "    n1 = x1.shape[0]\n",
    "    n2 = x2.shape[0]\n",
    "    return ((sigma2**2*n1*x1.mean() +sigma1**2*n2*x2.mean()) /\n",
    "                  (sigma2**2*n1 +sigma1**2*n2))"
   ]
  },
  {
   "cell_type": "code",
   "execution_count": 13,
   "metadata": {},
   "outputs": [],
   "source": [
    "sigma1 = 0.1\n",
    "sigma2 = 0.3\n",
    "n1 = 4\n",
    "n2 = 10\n",
    "MLE = np.zeros(1000)\n",
    "Moyenne = np.zeros(1000)\n",
    "for i in range(1000):\n",
    "    x1 = generate(sigma = sigma1, n = n1)\n",
    "    x2 = generate(sigma = sigma2, n = n2)\n",
    "    MLE[i] = MLE_estim_x(x1, x2, sigma1, sigma2)\n",
    "    Moyenne[i] = Moy_estim_x(x1, x2)"
   ]
  },
  {
   "cell_type": "code",
   "execution_count": 7,
   "metadata": {
    "scrolled": true
   },
   "outputs": [
    {
     "data": {
      "text/plain": [
       "<matplotlib.legend.Legend at 0x293e3287978>"
      ]
     },
     "execution_count": 7,
     "metadata": {},
     "output_type": "execute_result"
    },
    {
     "data": {
      "image/png": "[encoded data removed]",
      "text/plain": [
       "<Figure size 432x288 with 1 Axes>"
      ]
     },
     "metadata": {},
     "output_type": "display_data"
    }
   ],
   "source": [
    "plt.hist(Moyenne, label = 'Moyenne',bins=50,density=1,alpha= 0.5)\n",
    "plt.hist(MLE, label='MLE',bins=50,density=1,alpha= 0.5)\n",
    "plt.legend()"
   ]
  },
  {
   "cell_type": "code",
   "execution_count": 15,
   "metadata": {},
   "outputs": [
    {
     "name": "stdout",
     "output_type": "stream",
     "text": [
      "Moyenne MLE:  0.0023242858796297884\n",
      "Moyenne Moyenne arithmétique:  0.006417778688292299\n",
      "Ecart type MLE:  0.04450522625098867\n",
      "Ecart type Moyenne arithmétique:  0.06968279487204154\n"
     ]
    }
   ],
   "source": [
    "print(\"Moyenne MLE: \",MLE.mean())\n",
    "print(\"Moyenne Moyenne arithmétique: \",Moyenne.mean())\n",
    "\n",
    "print(\"Ecart type MLE: \",MLE.std())\n",
    "print(\"Ecart type Moyenne arithmétique: \",Moyenne.std())"
   ]
  },
  {
   "cell_type": "markdown",
   "metadata": {},
   "source": [
    "Comme on pouvait s'y attendre, la méthode MLE est meilleure : l'écart type de MLE est plus faible et l'espérance est plus proche de 0 que pour la moyenne arithmétique. Cela est dû au fait que pour MLE, on tient compte de la variance de nos capteurs."
   ]
  },
  {
   "cell_type": "code",
   "execution_count": 16,
   "metadata": {},
   "outputs": [],
   "source": [
    "def std_estimateur(n= 1000, sigma1 = 0.1, sigma2 = 0.3, n1 = 4, n2 = 10 ):\n",
    "    \"\"\" Retourne l'écart type de l'agrégat x* (estimé avec MLE)\n",
    "    pour n réalisations \"\"\"\n",
    "    MLE = np.zeros(n)\n",
    "    for i in range(n):\n",
    "        x1 = generate(sigma = sigma1, n = n1)\n",
    "        x2 = generate(sigma = sigma2, n = n2)\n",
    "        MLE[i] = MLE_estim_x(x1, x2, sigma1, sigma2)\n",
    "    return MLE.std()"
   ]
  },
  {
   "cell_type": "code",
   "execution_count": 17,
   "metadata": {
    "scrolled": true
   },
   "outputs": [
    {
     "data": {
      "text/plain": [
       "<matplotlib.colorbar.Colorbar at 0x7fb1cd6120b8>"
      ]
     },
     "execution_count": 17,
     "metadata": {},
     "output_type": "execute_result"
    },
    {
     "data": {
      "image/png": "[encoded data removed]",
      "text/plain": [
       "<Figure size 432x288 with 2 Axes>"
      ]
     },
     "metadata": {},
     "output_type": "display_data"
    }
   ],
   "source": [
    "MLE_std = np.zeros((20,20))\n",
    "for i in range(20):\n",
    "    for j in range(20):\n",
    "        MLE_std[i,j] = std_estimateur(n1 = i+1, n2 = j+1)\n",
    "plt.imshow(MLE_std, interpolation='none')\n",
    "plt.colorbar()"
   ]
  },
  {
   "cell_type": "markdown",
   "metadata": {},
   "source": [
    "La variance de l'estimateur décroit avec le nombre de points.<br>\n",
    "Cette décroissance est plus rapide quand on augmente le nombre de points de la source 1 plutôt que la source 2.<br>\n",
    "Ceci est normal car la première source est plus précise (écart type plus faible)"
   ]
  },
  {
   "cell_type": "markdown",
   "metadata": {},
   "source": [
    "## Question 3"
   ]
  },
  {
   "cell_type": "code",
   "execution_count": 18,
   "metadata": {},
   "outputs": [],
   "source": [
    "def MAP_estim(x1, x2, x0, sigma1, sigma2, sigma0):\n",
    "    n1 = x1.shape[0]\n",
    "    n2 = x2.shape[0]\n",
    "    return ((n1*x1.mean()/sigma1**2 + n2*x2.mean()/sigma2**2 + x0/sigma0**2) /\n",
    "                  (n1/sigma1**2 + n2/sigma2**2 + 1/sigma0**2))"
   ]
  },
  {
   "cell_type": "code",
   "execution_count": 78,
   "metadata": {},
   "outputs": [],
   "source": [
    "MAP = np.zeros(1000)\n",
    "MLE = np.zeros(1000)\n",
    "Moyenne = np.zeros(1000)\n",
    "\n",
    "n1_0 = 2\n",
    "n2_0 = 5\n",
    "\n",
    "sigma1 = 0.1\n",
    "sigma2 = 0.3\n",
    "\n",
    "n1 = 2\n",
    "n2 = 5\n",
    "for i in range(1000):\n",
    "    # Génération des données du prior pour \n",
    "    #l'estimation de x_0 et sigma_0\n",
    "    x1_0 = generate(sigma = sigma1, n = n1_0)\n",
    "    x2_0 = generate(sigma = sigma2, n = n2_0)\n",
    "    #x0 = Moy_estim_x(x1_0,x2_0)\n",
    "    x0 = MLE_estim_x(x1_0, x2_0, sigma1, sigma2)\n",
    "    #sigma0 = std_estimateur(n1 = 10, n2 = 5,n=200)\n",
    "    sigma0 = MLE_std[n1_0-1,n2_0-1]\n",
    "    \n",
    "    # Génération des nouvelles données\n",
    "    x1 = generate(sigma = sigma1, n = n1)\n",
    "    x2 = generate(sigma = sigma2, n = n2)\n",
    "    MAP[i] = MAP_estim(x1, x2, x0, sigma1, sigma2, sigma0)\n",
    "    MLE[i] = MLE_estim_x(np.hstack((x1_0, x1)), \n",
    "                         np.hstack((x2_0, x2)),sigma1, sigma2)\n",
    "    Moyenne[i] = Moy_estim_x(np.hstack((x1_0, x1)), \n",
    "                             np.hstack((x2_0, x2)))\n",
    "    "
   ]
  },
  {
   "cell_type": "code",
   "execution_count": 79,
   "metadata": {},
   "outputs": [
    {
     "data": {
      "image/png": "[encoded data removed]",
      "text/plain": [
       "<Figure size 432x288 with 1 Axes>"
      ]
     },
     "metadata": {},
     "output_type": "display_data"
    }
   ],
   "source": [
    "plt.hist(Moyenne, label = 'Moyenne',bins=50,density=1,alpha= 0.5)\n",
    "plt.hist(MLE, label='MLE',bins=50,density=1,alpha= 0.5)\n",
    "plt.hist(MAP, label = 'MAP',bins=50,density=1,alpha= 0.5)\n",
    "\n",
    "plt.legend();"
   ]
  },
  {
   "cell_type": "code",
   "execution_count": 80,
   "metadata": {},
   "outputs": [
    {
     "data": {
      "text/plain": [
       "(0.04387258063156258, 0.04387621510416939)"
      ]
     },
     "execution_count": 80,
     "metadata": {},
     "output_type": "execute_result"
    }
   ],
   "source": [
    "MLE.std(),MAP.std()"
   ]
  },
  {
   "cell_type": "markdown",
   "metadata": {},
   "source": [
    "L'estimateur avec MLE et l'estimateur avec MAP donnent presque le même résultat. Le MLE devrait être plus précis normalement car il a en quelque sorte plus de données, comparé au MAP qui fait une première synthèse des données x1_0 et x2_0."
   ]
  },
  {
   "cell_type": "markdown",
   "metadata": {},
   "source": [
    "# Exercice 2"
   ]
  },
  {
   "cell_type": "code",
   "execution_count": 13,
   "metadata": {},
   "outputs": [],
   "source": [
    "def estim_sigma(xi, x):\n",
    "    return np.mean((xi-x)**2)"
   ]
  },
  {
   "cell_type": "code",
   "execution_count": 14,
   "metadata": {},
   "outputs": [],
   "source": [
    "def F(xstar, sigma1, sigma2, x1, x2):\n",
    "    return (MLE_estim_x(x1,x2,sigma1,sigma2), \n",
    "            np.sqrt(estim_sigma(x1, xstar)),\n",
    "           np.sqrt(estim_sigma(x2, xstar)))"
   ]
  },
  {
   "cell_type": "code",
   "execution_count": 31,
   "metadata": {},
   "outputs": [],
   "source": [
    "sigma1 = 8\n",
    "sigma2 =3\n",
    "x = 10\n",
    "x1 = generate(x=x, sigma = sigma1, n = 2)\n",
    "x2 = generate(x=x, sigma = sigma2, n = 4)"
   ]
  },
  {
   "cell_type": "code",
   "execution_count": 45,
   "metadata": {},
   "outputs": [],
   "source": [
    "def estim_contrac(x1, x2, n=10,xstar_init =15, s1_init =22 ,s2_init =22):\n",
    "    xstar = xstar_init\n",
    "    s1 = s1_init\n",
    "    s2 = s2_init\n",
    "    Xstar_history = np.zeros(n)\n",
    "    S1_history = np.zeros(n)\n",
    "    S2_history = np.zeros(n)\n",
    "    for i in range(n):\n",
    "        Xstar_history[i] = xstar\n",
    "        S1_history[i] = s1\n",
    "        S2_history[i] = s2\n",
    "\n",
    "        xstar, s1,s2 =  F(xstar, s1, s2, x1, x2)\n",
    "    return xstar,Xstar_history,S1_history,S2_history"
   ]
  },
  {
   "cell_type": "code",
   "execution_count": 33,
   "metadata": {},
   "outputs": [
    {
     "data": {
      "text/plain": [
       "(9.52650154601885, 8.4165047608331, 3.660692117160044)"
      ]
     },
     "execution_count": 33,
     "metadata": {},
     "output_type": "execute_result"
    }
   ],
   "source": [
    "xstar, s1,s2"
   ]
  },
  {
   "cell_type": "code",
   "execution_count": 18,
   "metadata": {},
   "outputs": [
    {
     "data": {
      "text/plain": [
       "[<matplotlib.lines.Line2D at 0x293e38ac908>]"
      ]
     },
     "execution_count": 18,
     "metadata": {},
     "output_type": "execute_result"
    },
    {
     "data": {
      "image/png": "[encoded data removed]",
      "text/plain": [
       "<Figure size 432x288 with 1 Axes>"
      ]
     },
     "metadata": {},
     "output_type": "display_data"
    }
   ],
   "source": [
    "plt.plot(Xstar_history)"
   ]
  },
  {
   "cell_type": "code",
   "execution_count": 19,
   "metadata": {},
   "outputs": [
    {
     "data": {
      "text/plain": [
       "[<matplotlib.lines.Line2D at 0x293e39147f0>]"
      ]
     },
     "execution_count": 19,
     "metadata": {},
     "output_type": "execute_result"
    },
    {
     "data": {
      "image/png": "[encoded data removed]",
      "text/plain": [
       "<Figure size 432x288 with 1 Axes>"
      ]
     },
     "metadata": {},
     "output_type": "display_data"
    }
   ],
   "source": [
    "plt.plot(S1_history)"
   ]
  },
  {
   "cell_type": "code",
   "execution_count": 20,
   "metadata": {
    "scrolled": true
   },
   "outputs": [
    {
     "data": {
      "text/plain": [
       "[<matplotlib.lines.Line2D at 0x293e3973860>]"
      ]
     },
     "execution_count": 20,
     "metadata": {},
     "output_type": "execute_result"
    },
    {
     "data": {
      "image/png": "[encoded data removed]",
      "text/plain": [
       "<Figure size 432x288 with 1 Axes>"
      ]
     },
     "metadata": {},
     "output_type": "display_data"
    }
   ],
   "source": [
    "plt.plot(S2_history)"
   ]
  },
  {
   "cell_type": "markdown",
   "metadata": {},
   "source": [
    "x*, sigma1 et sigma2 convergent vite."
   ]
  },
  {
   "cell_type": "code",
   "execution_count": 46,
   "metadata": {},
   "outputs": [],
   "source": [
    "sigma1 = 0.1\n",
    "sigma2 = 0.3\n",
    "n1 = 4\n",
    "n2 = 10\n",
    "MLE = np.zeros(1000)\n",
    "Moyenne = np.zeros(1000)\n",
    "Contrac = np.zeros(1000)\n",
    "for i in range(1000):\n",
    "    x1 = generate(sigma = sigma1, n = n1)\n",
    "    x2 = generate(sigma = sigma2, n = n2)\n",
    "    MLE[i] = MLE_estim_x(x1, x2, sigma1, sigma2)\n",
    "    Moyenne[i] = Moy_estim_x(x1, x2)\n",
    "    Contrac[i],_,_,_ = estim_contrac(x1, x2)"
   ]
  },
  {
   "cell_type": "code",
   "execution_count": 47,
   "metadata": {},
   "outputs": [
    {
     "data": {
      "text/plain": [
       "<matplotlib.legend.Legend at 0x293e351f630>"
      ]
     },
     "execution_count": 47,
     "metadata": {},
     "output_type": "execute_result"
    },
    {
     "data": {
      "image/png": "[encoded data removed]",
      "text/plain": [
       "<Figure size 432x288 with 1 Axes>"
      ]
     },
     "metadata": {},
     "output_type": "display_data"
    }
   ],
   "source": [
    "plt.hist(Moyenne, label = 'Moyenne',bins=50,density=1,alpha= 0.5)\n",
    "plt.hist(Contrac, label = 'Contrac',bins=50,density=1,alpha= 0.5)\n",
    "plt.hist(MLE, label='MLE',bins=50,density=1,alpha= 0.5)\n",
    "plt.legend()"
   ]
  },
  {
   "cell_type": "code",
   "execution_count": 48,
   "metadata": {},
   "outputs": [
    {
     "data": {
      "text/plain": [
       "0.04913152807931737"
      ]
     },
     "execution_count": 48,
     "metadata": {},
     "output_type": "execute_result"
    }
   ],
   "source": [
    "Contrac.std()"
   ]
  },
  {
   "cell_type": "code",
   "execution_count": 49,
   "metadata": {},
   "outputs": [
    {
     "data": {
      "text/plain": [
       "0.04492368095930752"
      ]
     },
     "execution_count": 49,
     "metadata": {},
     "output_type": "execute_result"
    }
   ],
   "source": [
    "MLE.std()"
   ]
  },
  {
   "cell_type": "markdown",
   "metadata": {},
   "source": [
    "Avec la contraction, on obtient de bons résultats : presque aussi bons qu'avec MLE."
   ]
  }
 ],
 "metadata": {
  "kernelspec": {
   "display_name": "Python 3",
   "language": "python",
   "name": "python3"
  },
  "language_info": {
   "codemirror_mode": {
    "name": "ipython",
    "version": 3
   },
   "file_extension": ".py",
   "mimetype": "text/x-python",
   "name": "python",
   "nbconvert_exporter": "python",
   "pygments_lexer": "ipython3",
   "version": "3.6.5"
  },
  "toc": {
   "base_numbering": 1,
   "nav_menu": {},
   "number_sections": true,
   "sideBar": true,
   "skip_h1_title": false,
   "title_cell": "Table of Contents",
   "title_sidebar": "Contents",
   "toc_cell": false,
   "toc_position": {},
   "toc_section_display": true,
   "toc_window_display": false
  }
 },
 "nbformat": 4,
 "nbformat_minor": 2
}
